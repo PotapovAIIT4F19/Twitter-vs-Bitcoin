{
 "cells": [
  {
   "cell_type": "markdown",
   "id": "b27eb8b3",
   "metadata": {
    "ExecuteTime": {
     "end_time": "2021-09-21T13:42:54.414534Z",
     "start_time": "2021-09-21T13:42:54.411534Z"
    },
    "code_folding": []
   },
   "source": [
    "# Библиотеки"
   ]
  },
  {
   "cell_type": "code",
   "execution_count": 1,
   "id": "ca3f73f4",
   "metadata": {
    "ExecuteTime": {
     "end_time": "2021-09-22T03:48:16.451831Z",
     "start_time": "2021-09-22T03:48:15.557554Z"
    }
   },
   "outputs": [
    {
     "data": {
      "text/html": [
       "<style>.container {width: 100% !important; } </style>"
      ],
      "text/plain": [
       "<IPython.core.display.HTML object>"
      ]
     },
     "metadata": {},
     "output_type": "display_data"
    }
   ],
   "source": [
    "import pandas as pd\n",
    "import tweepy as tw \n",
    "import praw\n",
    "from praw.models import MoreComments\n",
    "import snscrape.modules.twitter as sntwitter\n",
    "import datetime\n",
    "from tqdm.notebook import tqdm\n",
    "\n",
    "\n",
    "\n",
    "from IPython.core.display import display, HTML\n",
    "display(HTML('<style>.container {width: 100% !important; } </style>'))"
   ]
  },
  {
   "cell_type": "markdown",
   "id": "7365e940",
   "metadata": {},
   "source": [
    "# Парсинг"
   ]
  },
  {
   "cell_type": "markdown",
   "id": "073c0beb",
   "metadata": {},
   "source": [
    "## Reddit"
   ]
  },
  {
   "cell_type": "code",
   "execution_count": 2,
   "id": "5d6ad924",
   "metadata": {
    "ExecuteTime": {
     "end_time": "2021-09-22T05:45:51.651411Z",
     "start_time": "2021-09-22T03:48:16.453836Z"
    }
   },
   "outputs": [
    {
     "data": {
      "application/vnd.jupyter.widget-view+json": {
       "model_id": "647f44223d094afbac45e29df2b8da16",
       "version_major": 2,
       "version_minor": 0
      },
      "text/plain": [
       "0it [00:00, ?it/s]"
      ]
     },
     "metadata": {},
     "output_type": "display_data"
    },
    {
     "data": {
      "application/vnd.jupyter.widget-view+json": {
       "model_id": "56072c7c279b4304acc773897e6e7693",
       "version_major": 2,
       "version_minor": 0
      },
      "text/plain": [
       "0it [00:00, ?it/s]"
      ]
     },
     "metadata": {},
     "output_type": "display_data"
    },
    {
     "data": {
      "application/vnd.jupyter.widget-view+json": {
       "model_id": "e5b7655c75314e83ae7c100afa5abc56",
       "version_major": 2,
       "version_minor": 0
      },
      "text/plain": [
       "0it [00:00, ?it/s]"
      ]
     },
     "metadata": {},
     "output_type": "display_data"
    },
    {
     "data": {
      "application/vnd.jupyter.widget-view+json": {
       "model_id": "35eee44ef4ed4ff7ade25fd855a42690",
       "version_major": 2,
       "version_minor": 0
      },
      "text/plain": [
       "0it [00:00, ?it/s]"
      ]
     },
     "metadata": {},
     "output_type": "display_data"
    },
    {
     "data": {
      "application/vnd.jupyter.widget-view+json": {
       "model_id": "bb871fb7782348c786e551058dbc7c86",
       "version_major": 2,
       "version_minor": 0
      },
      "text/plain": [
       "0it [00:00, ?it/s]"
      ]
     },
     "metadata": {},
     "output_type": "display_data"
    },
    {
     "data": {
      "application/vnd.jupyter.widget-view+json": {
       "model_id": "ece4b85cdc0e464c997a0c31ef3d765c",
       "version_major": 2,
       "version_minor": 0
      },
      "text/plain": [
       "0it [00:00, ?it/s]"
      ]
     },
     "metadata": {},
     "output_type": "display_data"
    }
   ],
   "source": [
    "reddit = praw.Reddit(client_id='gYuNiBS7_keBx3UmPQh-Nw', client_secret='I3oLaghUnEk9IgmSRAhsGrp3QKanNQ', user_agent='ParsBars')\n",
    "\n",
    "posts_total = []\n",
    "subreddit_list = ['Bitcoin','Crypto','Cryptocurrency','Cryptocurrencies','Blockchain','Binance']\n",
    "\n",
    "for x in subreddit_list:\n",
    "    posts = []\n",
    "    ml_subreddit = reddit.subreddit(x).hot(limit=1000000)\n",
    "    sub_c = reddit.subreddit(x)\n",
    "    sub_c = sub_c.subscribers\n",
    "    \n",
    "    for post in tqdm(ml_subreddit):\n",
    "        posts_loc = []\n",
    "        posts_loc.append([post.author,post.title, post.score, post.id, post.subreddit, post.num_comments, post.selftext, datetime.datetime.fromtimestamp(post.created)])\n",
    "        submission = reddit.submission(id=post.id)\n",
    "        comm = []\n",
    "        scor = []\n",
    "        aut = []\n",
    "        tim = []\n",
    "        submission.comments.replace_more(limit=0)\n",
    "        for top_level_comment in submission.comments:\n",
    "            comm += [top_level_comment.body]\n",
    "            scor += [top_level_comment.score]\n",
    "            aut += [top_level_comment.author]\n",
    "            tim += [datetime.datetime.fromtimestamp(top_level_comment.created)]\n",
    "        df = pd.DataFrame([comm,scor,aut,tim],index=['comment','comment_score','aut','tim']).T.sort_values(by='comment_score',ascending=False).iloc[:10]\n",
    "        shap = min(df.shape[0],10)\n",
    "        comm_df = pd.DataFrame(df.iloc[:,0].tolist()+df.iloc[:,1].tolist()+df.iloc[:,2].tolist() + df.iloc[:,3].tolist() \\\n",
    "                               + [sum(scor),sub_c],index= ['top {} comment'.format(x) for x in range(1,shap+1)]\\\n",
    "                               + ['top {} comment score'.format(x) for x in range(1,shap+1)] \\\n",
    "                               + ['top {} comment author'.format(x) for x in range(1,shap+1)] \\\n",
    "                               + ['top {} comment time'.format(x) for x in range(1,shap+1)] \\\n",
    "                               + ['total comments score','subreddit subscribers']).T\n",
    "        posts +=[pd.concat([pd.DataFrame(posts_loc,columns=['author','title', 'score', 'id', 'subreddit', 'num_comments', 'body', 'created']),comm_df],axis=1)]\n",
    "    \n",
    "    posts = pd.concat(posts)\n",
    "    posts_total += [posts]\n",
    "posts_total = pd.concat(posts_total).to_csv('reddit.csv')"
   ]
  },
  {
   "cell_type": "code",
   "execution_count": null,
   "id": "952ff6c7",
   "metadata": {},
   "outputs": [],
   "source": []
  },
  {
   "cell_type": "code",
   "execution_count": null,
   "id": "f626da1b",
   "metadata": {},
   "outputs": [],
   "source": []
  },
  {
   "cell_type": "markdown",
   "id": "57f8cb69",
   "metadata": {},
   "source": [
    "## Twitter"
   ]
  },
  {
   "cell_type": "code",
   "execution_count": null,
   "id": "3531a629",
   "metadata": {
    "ExecuteTime": {
     "start_time": "2021-09-22T15:55:33.172Z"
    }
   },
   "outputs": [
    {
     "data": {
      "application/vnd.jupyter.widget-view+json": {
       "model_id": "7fb19abedc1f476fb8b9e46ba4fba91a",
       "version_major": 2,
       "version_minor": 0
      },
      "text/plain": [
       "0it [00:00, ?it/s]"
      ]
     },
     "metadata": {},
     "output_type": "display_data"
    }
   ],
   "source": [
    "maxTweets = 1000000\n",
    "\n",
    "#snscrape.modules.twitter.TwitterHashtagScraper('Bitcoin')\n",
    "#sntwitter.TwitterSearchScraper('Bitcoin').get_items()\n",
    "posts_total = []\n",
    "subreddit_list = ['Bitcoin','Crypto','Cryptocurrency','Cryptocurrencies','Blockchain','Binance']\n",
    "for x in subreddit_list:\n",
    "    tweets_list = []\n",
    "    for i,tweet in tqdm(enumerate(sntwitter.TwitterSearchScraper('Bitcoin').get_items())):\n",
    "        if i>maxTweets:\n",
    "            break\n",
    "        posts_total.append({'date':tweet.date, \n",
    "                             'id':tweet.id, \n",
    "                             'content':tweet.content, \n",
    "                             'username':tweet.username})\n",
    "    \n",
    "    tweets_df = pd.DataFrame(tweets_list)\n",
    "    tweets_df['subreddit'] = x\n",
    "    posts_total += [tweets_df]\n",
    "posts_total = pd.concat(posts_total).to_csv('twitter.csv')"
   ]
  },
  {
   "cell_type": "code",
   "execution_count": null,
   "id": "b7490e75",
   "metadata": {},
   "outputs": [],
   "source": []
  },
  {
   "cell_type": "code",
   "execution_count": null,
   "id": "38fff6d8",
   "metadata": {},
   "outputs": [],
   "source": []
  },
  {
   "cell_type": "code",
   "execution_count": null,
   "id": "ae5b68af",
   "metadata": {},
   "outputs": [],
   "source": []
  },
  {
   "cell_type": "code",
   "execution_count": null,
   "id": "2821df05",
   "metadata": {},
   "outputs": [],
   "source": []
  },
  {
   "cell_type": "code",
   "execution_count": null,
   "id": "34c6885d",
   "metadata": {},
   "outputs": [],
   "source": []
  },
  {
   "cell_type": "code",
   "execution_count": null,
   "id": "d45b0958",
   "metadata": {},
   "outputs": [],
   "source": []
  },
  {
   "cell_type": "code",
   "execution_count": null,
   "id": "c24136e3",
   "metadata": {},
   "outputs": [],
   "source": []
  },
  {
   "cell_type": "code",
   "execution_count": null,
   "id": "8a95d7ce",
   "metadata": {},
   "outputs": [],
   "source": []
  },
  {
   "cell_type": "code",
   "execution_count": null,
   "id": "1b8bcbe7",
   "metadata": {},
   "outputs": [],
   "source": []
  },
  {
   "cell_type": "code",
   "execution_count": null,
   "id": "92ecf4cd",
   "metadata": {},
   "outputs": [],
   "source": []
  }
 ],
 "metadata": {
  "kernelspec": {
   "display_name": "Python 3",
   "language": "python",
   "name": "python3"
  },
  "language_info": {
   "codemirror_mode": {
    "name": "ipython",
    "version": 3
   },
   "file_extension": ".py",
   "mimetype": "text/x-python",
   "name": "python",
   "nbconvert_exporter": "python",
   "pygments_lexer": "ipython3",
   "version": "3.8.8"
  },
  "toc": {
   "base_numbering": 1,
   "nav_menu": {},
   "number_sections": true,
   "sideBar": true,
   "skip_h1_title": false,
   "title_cell": "Table of Contents",
   "title_sidebar": "Contents",
   "toc_cell": false,
   "toc_position": {},
   "toc_section_display": true,
   "toc_window_display": true
  }
 },
 "nbformat": 4,
 "nbformat_minor": 5
}
