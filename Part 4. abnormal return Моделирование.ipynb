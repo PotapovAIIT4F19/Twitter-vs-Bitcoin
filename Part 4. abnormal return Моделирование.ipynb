{
 "cells": [
  {
   "cell_type": "markdown",
   "id": "22fe0d40",
   "metadata": {},
   "source": [
    "# Библиотеки"
   ]
  },
  {
   "cell_type": "code",
   "execution_count": 1,
   "id": "6ecfade2",
   "metadata": {
    "ExecuteTime": {
     "end_time": "2021-10-16T14:29:05.714308Z",
     "start_time": "2021-10-16T14:26:52.131072Z"
    },
    "scrolled": true
   },
   "outputs": [
    {
     "data": {
      "text/html": [
       "<style>.container {width: 100% !important; } </style>"
      ],
      "text/plain": [
       "<IPython.core.display.HTML object>"
      ]
     },
     "metadata": {},
     "output_type": "display_data"
    }
   ],
   "source": [
    "import matplotlib.pyplot as plt\n",
    "import pandas as pd\n",
    "pd.options.display.float_format = '{:.3}'.format\n",
    "\n",
    "import praw\n",
    "import snscrape.modules.twitter as sntwitter\n",
    "import datetime\n",
    "import requests\n",
    "from tqdm.notebook import tqdm\n",
    "import cryptocompare\n",
    "import getpass\n",
    "import math\n",
    "import numpy as np\n",
    "import seaborn as sns\n",
    "import scipy.stats as ss\n",
    "import random\n",
    "from collections import defaultdict\n",
    "\n",
    "from sklearn.model_selection import train_test_split\n",
    "import xgboost as xgb\n",
    "from sklearn.metrics import mean_absolute_percentage_error, mean_squared_error\n",
    "from statsmodels.stats.outliers_influence import variance_inflation_factor\n",
    "\n",
    "import tensorflow as tf\n",
    "from os import listdir\n",
    "from keras.preprocessing.text import Tokenizer\n",
    "from keras.preprocessing.sequence import pad_sequences\n",
    "from keras.models import Sequential\n",
    "from keras.layers import Dense\n",
    "from keras.layers import Flatten\n",
    "from keras.layers import Embedding\n",
    "from keras.layers.convolutional import Conv1D\n",
    "from keras.layers.convolutional import MaxPooling1D\n",
    "from keras import layers\n",
    "from keras.layers.advanced_activations import LeakyReLU\n",
    "from tensorflow import keras\n",
    "from ax.service.ax_client import AxClient\n",
    "from ax.utils.notebook.plotting import render, init_notebook_plotting\n",
    "\n",
    "from IPython.core.display import display, HTML\n",
    "display(HTML('<style>.container {width: 100% !important; } </style>'))"
   ]
  },
  {
   "cell_type": "markdown",
   "id": "898aef7f",
   "metadata": {},
   "source": [
    "# Reddit minutely"
   ]
  },
  {
   "cell_type": "code",
   "execution_count": 18,
   "id": "3341ecd3",
   "metadata": {
    "ExecuteTime": {
     "end_time": "2021-10-16T14:49:08.286917Z",
     "start_time": "2021-10-16T14:48:47.003866Z"
    }
   },
   "outputs": [],
   "source": [
    "opt_x = pd.read_csv('instr minutely.csv',index_col=0).values.ravel()\n",
    "\n",
    "X_total = pd.read_csv('reddit minutely total X.csv',usecols=opt_x)\n",
    "Y = pd.read_csv('reddit minutely with sentiment.csv',index_col = 0)[['total_volume_total','returns']]\n",
    "\n",
    "X_total = X_total.iloc[math.ceil(X_total.shape[0]*0.3):]\n",
    "Y = Y.iloc[math.ceil(Y.shape[0]*0.3):][['returns']]"
   ]
  },
  {
   "cell_type": "code",
   "execution_count": 21,
   "id": "65f285d1",
   "metadata": {
    "ExecuteTime": {
     "end_time": "2021-10-16T14:49:32.042366Z",
     "start_time": "2021-10-16T14:49:32.032392Z"
    }
   },
   "outputs": [],
   "source": [
    "def abnormal_xgb(x,y,window):\n",
    "    \n",
    "    y = (y - y.rolling(window).mean()).dropna()\n",
    "    x = x.iloc[window-1:]\n",
    "    xg_reg = xgb.XGBRegressor()\n",
    "\n",
    "    wild_window_error = []\n",
    "    rolling_window_error = []\n",
    "    \n",
    "    wild_window_return = []\n",
    "    rolling_window_return = []\n",
    "    \n",
    "    for i in tqdm(range(200,x.shape[0])):\n",
    "        xg_reg.fit(x.iloc[i-200:i],y.iloc[i-200:i])\n",
    "        preds = xg_reg.predict(pd.DataFrame(x.iloc[i]).T)\n",
    "        rolling_window_error += [mean_absolute_percentage_error(pd.DataFrame(y.iloc[i]).T, preds)]\n",
    "        rolling_window_return += [preds[0]]\n",
    "        \n",
    "        xg_reg.fit(x.iloc[:i],y.iloc[:i])\n",
    "        preds = xg_reg.predict(pd.DataFrame(x.iloc[i]).T)\n",
    "        wild_window_error += [mean_absolute_percentage_error(pd.DataFrame(y.iloc[i]).T, preds)]\n",
    "        wild_window_return += [preds[0]]\n",
    "        \n",
    "    return {'rolling error':rolling_window_error,\n",
    "           'rolling predinc':rolling_window_return,\n",
    "           'window error':wild_window_error,\n",
    "           'window predit':wild_window_return}"
   ]
  },
  {
   "cell_type": "code",
   "execution_count": 23,
   "id": "7f251fc9",
   "metadata": {
    "ExecuteTime": {
     "end_time": "2021-10-16T19:12:36.271052Z",
     "start_time": "2021-10-16T14:50:34.457939Z"
    }
   },
   "outputs": [
    {
     "data": {
      "application/vnd.jupyter.widget-view+json": {
       "model_id": "1da507bc7300464e90400dcbb6921880",
       "version_major": 2,
       "version_minor": 0
      },
      "text/plain": [
       "  0%|          | 0/1736 [00:00<?, ?it/s]"
      ]
     },
     "metadata": {},
     "output_type": "display_data"
    },
    {
     "data": {
      "application/vnd.jupyter.widget-view+json": {
       "model_id": "5c58e604d4de42e3b2f00e285db068ea",
       "version_major": 2,
       "version_minor": 0
      },
      "text/plain": [
       "  0%|          | 0/1731 [00:00<?, ?it/s]"
      ]
     },
     "metadata": {},
     "output_type": "display_data"
    },
    {
     "data": {
      "application/vnd.jupyter.widget-view+json": {
       "model_id": "2717c0d0757445a18cfa11646def86cc",
       "version_major": 2,
       "version_minor": 0
      },
      "text/plain": [
       "  0%|          | 0/1726 [00:00<?, ?it/s]"
      ]
     },
     "metadata": {},
     "output_type": "display_data"
    },
    {
     "data": {
      "application/vnd.jupyter.widget-view+json": {
       "model_id": "07088385b9fe429c9ca1408f2a82a7a2",
       "version_major": 2,
       "version_minor": 0
      },
      "text/plain": [
       "  0%|          | 0/1721 [00:00<?, ?it/s]"
      ]
     },
     "metadata": {},
     "output_type": "display_data"
    },
    {
     "data": {
      "application/vnd.jupyter.widget-view+json": {
       "model_id": "7e8d91490bca467cba061713e7c1a8fd",
       "version_major": 2,
       "version_minor": 0
      },
      "text/plain": [
       "  0%|          | 0/1716 [00:00<?, ?it/s]"
      ]
     },
     "metadata": {},
     "output_type": "display_data"
    },
    {
     "data": {
      "application/vnd.jupyter.widget-view+json": {
       "model_id": "98039a75d6ef4b018ddefffe7e87698e",
       "version_major": 2,
       "version_minor": 0
      },
      "text/plain": [
       "  0%|          | 0/1711 [00:00<?, ?it/s]"
      ]
     },
     "metadata": {},
     "output_type": "display_data"
    }
   ],
   "source": [
    "res_5 = abnormal_xgb(x=X_total,y=Y,window=5)\n",
    "res_10 = abnormal_xgb(x=X_total,y=Y,window=10)\n",
    "res_15 = abnormal_xgb(x=X_total,y=Y,window=15)\n",
    "res_20 = abnormal_xgb(x=X_total,y=Y,window=20)\n",
    "res_25 = abnormal_xgb(x=X_total,y=Y,window=25)\n",
    "res_30 = abnormal_xgb(x=X_total,y=Y,window=30)"
   ]
  },
  {
   "cell_type": "code",
   "execution_count": 29,
   "id": "a5d1b402",
   "metadata": {
    "ExecuteTime": {
     "end_time": "2021-10-16T19:41:20.594220Z",
     "start_time": "2021-10-16T19:41:20.505166Z"
    }
   },
   "outputs": [
    {
     "data": {
      "text/html": [
       "<div>\n",
       "<style scoped>\n",
       "    .dataframe tbody tr th:only-of-type {\n",
       "        vertical-align: middle;\n",
       "    }\n",
       "\n",
       "    .dataframe tbody tr th {\n",
       "        vertical-align: top;\n",
       "    }\n",
       "\n",
       "    .dataframe thead th {\n",
       "        text-align: right;\n",
       "    }\n",
       "</style>\n",
       "<table border=\"1\" class=\"dataframe\">\n",
       "  <thead>\n",
       "    <tr style=\"text-align: right;\">\n",
       "      <th></th>\n",
       "      <th>window 5</th>\n",
       "      <th>window 10</th>\n",
       "      <th>window 15</th>\n",
       "      <th>window 20</th>\n",
       "      <th>window 25</th>\n",
       "      <th>window 30</th>\n",
       "    </tr>\n",
       "  </thead>\n",
       "  <tbody>\n",
       "    <tr>\n",
       "      <th>count</th>\n",
       "      <td>1.74e+03</td>\n",
       "      <td>1.73e+03</td>\n",
       "      <td>1.73e+03</td>\n",
       "      <td>1.72e+03</td>\n",
       "      <td>1.72e+03</td>\n",
       "      <td>1.71e+03</td>\n",
       "    </tr>\n",
       "    <tr>\n",
       "      <th>mean</th>\n",
       "      <td>7.31</td>\n",
       "      <td>37.7</td>\n",
       "      <td>2.4</td>\n",
       "      <td>5.26</td>\n",
       "      <td>3.94</td>\n",
       "      <td>2.87</td>\n",
       "    </tr>\n",
       "    <tr>\n",
       "      <th>std</th>\n",
       "      <td>1.46e+02</td>\n",
       "      <td>1.26e+03</td>\n",
       "      <td>7.87</td>\n",
       "      <td>82.1</td>\n",
       "      <td>38.7</td>\n",
       "      <td>19.7</td>\n",
       "    </tr>\n",
       "    <tr>\n",
       "      <th>min</th>\n",
       "      <td>0.00558</td>\n",
       "      <td>0.00663</td>\n",
       "      <td>0.000756</td>\n",
       "      <td>0.00319</td>\n",
       "      <td>0.000448</td>\n",
       "      <td>0.00174</td>\n",
       "    </tr>\n",
       "    <tr>\n",
       "      <th>25%</th>\n",
       "      <td>0.806</td>\n",
       "      <td>0.798</td>\n",
       "      <td>0.84</td>\n",
       "      <td>0.819</td>\n",
       "      <td>0.818</td>\n",
       "      <td>0.803</td>\n",
       "    </tr>\n",
       "    <tr>\n",
       "      <th>50%</th>\n",
       "      <td>1.06</td>\n",
       "      <td>1.06</td>\n",
       "      <td>1.1</td>\n",
       "      <td>1.09</td>\n",
       "      <td>1.08</td>\n",
       "      <td>1.08</td>\n",
       "    </tr>\n",
       "    <tr>\n",
       "      <th>75%</th>\n",
       "      <td>1.57</td>\n",
       "      <td>1.54</td>\n",
       "      <td>1.63</td>\n",
       "      <td>1.62</td>\n",
       "      <td>1.59</td>\n",
       "      <td>1.55</td>\n",
       "    </tr>\n",
       "    <tr>\n",
       "      <th>max</th>\n",
       "      <td>5.48e+03</td>\n",
       "      <td>5.18e+04</td>\n",
       "      <td>2.03e+02</td>\n",
       "      <td>2.44e+03</td>\n",
       "      <td>1.11e+03</td>\n",
       "      <td>7.51e+02</td>\n",
       "    </tr>\n",
       "  </tbody>\n",
       "</table>\n",
       "</div>"
      ],
      "text/plain": [
       "       window 5  window 10  window 15  window 20  window 25  window 30\n",
       "count  1.74e+03   1.73e+03   1.73e+03   1.72e+03   1.72e+03   1.71e+03\n",
       "mean       7.31       37.7        2.4       5.26       3.94       2.87\n",
       "std    1.46e+02   1.26e+03       7.87       82.1       38.7       19.7\n",
       "min     0.00558    0.00663   0.000756    0.00319   0.000448    0.00174\n",
       "25%       0.806      0.798       0.84      0.819      0.818      0.803\n",
       "50%        1.06       1.06        1.1       1.09       1.08       1.08\n",
       "75%        1.57       1.54       1.63       1.62       1.59       1.55\n",
       "max    5.48e+03   5.18e+04   2.03e+02   2.44e+03   1.11e+03   7.51e+02"
      ]
     },
     "execution_count": 29,
     "metadata": {},
     "output_type": "execute_result"
    }
   ],
   "source": [
    "pd.DataFrame([res_5['window error'],res_10['window error'],res_15['window error'],res_20['window error'],res_25['window error'],res_30['window error']],\n",
    "            index = ['window 5','window 10','window 15','window 20','window 25','window 30']).T.describe()"
   ]
  },
  {
   "cell_type": "code",
   "execution_count": 30,
   "id": "2cdce9f7",
   "metadata": {
    "ExecuteTime": {
     "end_time": "2021-10-16T19:41:36.786917Z",
     "start_time": "2021-10-16T19:41:36.700918Z"
    }
   },
   "outputs": [
    {
     "data": {
      "text/html": [
       "<div>\n",
       "<style scoped>\n",
       "    .dataframe tbody tr th:only-of-type {\n",
       "        vertical-align: middle;\n",
       "    }\n",
       "\n",
       "    .dataframe tbody tr th {\n",
       "        vertical-align: top;\n",
       "    }\n",
       "\n",
       "    .dataframe thead th {\n",
       "        text-align: right;\n",
       "    }\n",
       "</style>\n",
       "<table border=\"1\" class=\"dataframe\">\n",
       "  <thead>\n",
       "    <tr style=\"text-align: right;\">\n",
       "      <th></th>\n",
       "      <th>rolling 5</th>\n",
       "      <th>rolling 10</th>\n",
       "      <th>rolling 15</th>\n",
       "      <th>rolling 20</th>\n",
       "      <th>rolling 25</th>\n",
       "      <th>rolling 30</th>\n",
       "    </tr>\n",
       "  </thead>\n",
       "  <tbody>\n",
       "    <tr>\n",
       "      <th>count</th>\n",
       "      <td>1.74e+03</td>\n",
       "      <td>1.73e+03</td>\n",
       "      <td>1.73e+03</td>\n",
       "      <td>1.72e+03</td>\n",
       "      <td>1.72e+03</td>\n",
       "      <td>1.71e+03</td>\n",
       "    </tr>\n",
       "    <tr>\n",
       "      <th>mean</th>\n",
       "      <td>2.48</td>\n",
       "      <td>12.9</td>\n",
       "      <td>2.73</td>\n",
       "      <td>3.89</td>\n",
       "      <td>4.32</td>\n",
       "      <td>3.0</td>\n",
       "    </tr>\n",
       "    <tr>\n",
       "      <th>std</th>\n",
       "      <td>8.8</td>\n",
       "      <td>2.52e+02</td>\n",
       "      <td>10.6</td>\n",
       "      <td>32.2</td>\n",
       "      <td>46.3</td>\n",
       "      <td>14.7</td>\n",
       "    </tr>\n",
       "    <tr>\n",
       "      <th>min</th>\n",
       "      <td>0.00474</td>\n",
       "      <td>0.000271</td>\n",
       "      <td>0.0013</td>\n",
       "      <td>0.000667</td>\n",
       "      <td>0.0011</td>\n",
       "      <td>0.000197</td>\n",
       "    </tr>\n",
       "    <tr>\n",
       "      <th>25%</th>\n",
       "      <td>0.781</td>\n",
       "      <td>0.773</td>\n",
       "      <td>0.8</td>\n",
       "      <td>0.769</td>\n",
       "      <td>0.789</td>\n",
       "      <td>0.775</td>\n",
       "    </tr>\n",
       "    <tr>\n",
       "      <th>50%</th>\n",
       "      <td>1.12</td>\n",
       "      <td>1.1</td>\n",
       "      <td>1.11</td>\n",
       "      <td>1.09</td>\n",
       "      <td>1.09</td>\n",
       "      <td>1.12</td>\n",
       "    </tr>\n",
       "    <tr>\n",
       "      <th>75%</th>\n",
       "      <td>1.74</td>\n",
       "      <td>1.7</td>\n",
       "      <td>1.73</td>\n",
       "      <td>1.74</td>\n",
       "      <td>1.74</td>\n",
       "      <td>1.8</td>\n",
       "    </tr>\n",
       "    <tr>\n",
       "      <th>max</th>\n",
       "      <td>2.06e+02</td>\n",
       "      <td>7.13e+03</td>\n",
       "      <td>3.41e+02</td>\n",
       "      <td>9.09e+02</td>\n",
       "      <td>1.57e+03</td>\n",
       "      <td>4.45e+02</td>\n",
       "    </tr>\n",
       "  </tbody>\n",
       "</table>\n",
       "</div>"
      ],
      "text/plain": [
       "       rolling 5  rolling 10  rolling 15  rolling 20  rolling 25  rolling 30\n",
       "count   1.74e+03    1.73e+03    1.73e+03    1.72e+03    1.72e+03    1.71e+03\n",
       "mean        2.48        12.9        2.73        3.89        4.32         3.0\n",
       "std          8.8    2.52e+02        10.6        32.2        46.3        14.7\n",
       "min      0.00474    0.000271      0.0013    0.000667      0.0011    0.000197\n",
       "25%        0.781       0.773         0.8       0.769       0.789       0.775\n",
       "50%         1.12         1.1        1.11        1.09        1.09        1.12\n",
       "75%         1.74         1.7        1.73        1.74        1.74         1.8\n",
       "max     2.06e+02    7.13e+03    3.41e+02    9.09e+02    1.57e+03    4.45e+02"
      ]
     },
     "execution_count": 30,
     "metadata": {},
     "output_type": "execute_result"
    }
   ],
   "source": [
    "pd.DataFrame([res_5['rolling error'],res_10['rolling error'],res_15['rolling error'],res_20['rolling error'],res_25['rolling error'],res_30['rolling error']],\n",
    "            index = ['rolling 5','rolling 10','rolling 15','rolling 20','rolling 25','rolling 30']).T.describe()"
   ]
  },
  {
   "cell_type": "markdown",
   "id": "f3628454",
   "metadata": {},
   "source": [
    "# twitter"
   ]
  },
  {
   "cell_type": "code",
   "execution_count": 31,
   "id": "8f423271",
   "metadata": {
    "ExecuteTime": {
     "end_time": "2021-10-16T19:43:27.705327Z",
     "start_time": "2021-10-16T19:42:29.386192Z"
    }
   },
   "outputs": [
    {
     "name": "stdout",
     "output_type": "stream",
     "text": [
      "X: (70306, 209)\n",
      "Y: (70306, 1)\n"
     ]
    }
   ],
   "source": [
    "twitter = pd.read_csv('twitter total X.csv',index_col = 0)\n",
    "intrs = pd.read_csv('instr twitter.csv',index_col=0).values.ravel()\n",
    "X_all = twitter\n",
    "X = twitter[intrs]\n",
    "print('X:',X.shape)\n",
    "\n",
    "twitter = pd.read_csv('twitter with PCA.csv',index_col = 0)\n",
    "Y = twitter[['returns']]\n",
    "print('Y:',Y.shape)"
   ]
  },
  {
   "cell_type": "markdown",
   "id": "4964281c",
   "metadata": {},
   "source": [
    "## RNN"
   ]
  },
  {
   "cell_type": "code",
   "execution_count": 36,
   "id": "da92aba6",
   "metadata": {
    "ExecuteTime": {
     "end_time": "2021-10-16T19:55:33.560202Z",
     "start_time": "2021-10-16T19:55:33.543222Z"
    }
   },
   "outputs": [],
   "source": [
    "def abnormal_rnn(x,y,window):\n",
    "    y = (y - y.rolling(window).mean()).dropna()\n",
    "    x = x.iloc[window-1:]\n",
    "\n",
    "    model = Sequential()\n",
    "    model.add(Flatten())\n",
    "    model.add(Dense(930, input_dim=930, activation='sigmoid'))\n",
    "    model.add(Dense(700, activation='relu'))\n",
    "    model.add(Dense(400, activation='relu'))\n",
    "    model.add(Dense(200, activation='relu'))\n",
    "    model.add(Dense(100, activation='relu'))\n",
    "    model.add(Dense(50, activation='relu'))\n",
    "    model.add(Dense(1, activation='relu'))\n",
    "    model.compile(loss='mse',optimizer='adam', metrics=['mean_absolute_percentage_error'])\n",
    "    \n",
    "    model.fit(x.values, y.values.ravel(), epochs=10, batch_size=1000)\n",
    "    _, accuracy = model.evaluate(x, y)\n",
    "    print('Accuracy: %.2f' % (accuracy*100))"
   ]
  },
  {
   "cell_type": "code",
   "execution_count": 37,
   "id": "b50d09a3",
   "metadata": {
    "ExecuteTime": {
     "end_time": "2021-10-16T19:56:09.226332Z",
     "start_time": "2021-10-16T19:55:34.127327Z"
    },
    "scrolled": true
   },
   "outputs": [
    {
     "name": "stdout",
     "output_type": "stream",
     "text": [
      "Epoch 1/10\n",
      "71/71 [==============================] - 3s 36ms/step - loss: 0.0039 - mean_absolute_percentage_error: 18501.7852\n",
      "Epoch 2/10\n",
      "71/71 [==============================] - 2s 34ms/step - loss: 8.3260e-07 - mean_absolute_percentage_error: 99.9337\n",
      "Epoch 3/10\n",
      "71/71 [==============================] - 2s 34ms/step - loss: 8.3260e-07 - mean_absolute_percentage_error: 99.9337\n",
      "Epoch 4/10\n",
      "71/71 [==============================] - 2s 34ms/step - loss: 8.3260e-07 - mean_absolute_percentage_error: 99.9337\n",
      "Epoch 5/10\n",
      "71/71 [==============================] - 2s 34ms/step - loss: 8.3260e-07 - mean_absolute_percentage_error: 99.9337\n",
      "Epoch 6/10\n",
      "71/71 [==============================] - 3s 37ms/step - loss: 8.3260e-07 - mean_absolute_percentage_error: 99.9337\n",
      "Epoch 7/10\n",
      "71/71 [==============================] - 3s 41ms/step - loss: 8.3260e-07 - mean_absolute_percentage_error: 99.9337\n",
      "Epoch 8/10\n",
      "71/71 [==============================] - 3s 41ms/step - loss: 8.3260e-07 - mean_absolute_percentage_error: 99.9337\n",
      "Epoch 9/10\n",
      "71/71 [==============================] - 3s 41ms/step - loss: 8.3260e-07 - mean_absolute_percentage_error: 99.9337\n",
      "Epoch 10/10\n",
      "71/71 [==============================] - 3s 40ms/step - loss: 8.3260e-07 - mean_absolute_percentage_error: 99.9337\n",
      "2197/2197 [==============================] - 8s 4ms/step - loss: 8.3260e-07 - mean_absolute_percentage_error: 99.9337A: 5s - loss: 8.8975e-07 - mean_a - ETA: 0s - loss: 8.3619e-07 - mean_absolute_percentage_error: 9\n",
      "Accuracy: 9993.37\n"
     ]
    }
   ],
   "source": [
    "abnormal_rnn(x = X,y = Y, window = 5)"
   ]
  },
  {
   "cell_type": "code",
   "execution_count": 38,
   "id": "d0751983",
   "metadata": {
    "ExecuteTime": {
     "end_time": "2021-10-16T19:56:46.188673Z",
     "start_time": "2021-10-16T19:56:09.231339Z"
    }
   },
   "outputs": [
    {
     "name": "stdout",
     "output_type": "stream",
     "text": [
      "Epoch 1/10\n",
      "71/71 [==============================] - 3s 38ms/step - loss: 1.3208e-06 - mean_absolute_percentage_error: 102.2207\n",
      "Epoch 2/10\n",
      "71/71 [==============================] - 3s 41ms/step - loss: 9.3125e-07 - mean_absolute_percentage_error: 99.9464\n",
      "Epoch 3/10\n",
      "71/71 [==============================] - 3s 41ms/step - loss: 9.3125e-07 - mean_absolute_percentage_error: 99.9464\n",
      "Epoch 4/10\n",
      "71/71 [==============================] - 3s 41ms/step - loss: 9.3125e-07 - mean_absolute_percentage_error: 99.9464\n",
      "Epoch 5/10\n",
      "71/71 [==============================] - 3s 41ms/step - loss: 9.3125e-07 - mean_absolute_percentage_error: 99.9464\n",
      "Epoch 6/10\n",
      "71/71 [==============================] - 3s 40ms/step - loss: 9.3125e-07 - mean_absolute_percentage_error: 99.9464\n",
      "Epoch 7/10\n",
      "71/71 [==============================] - 3s 41ms/step - loss: 9.3125e-07 - mean_absolute_percentage_error: 99.9464\n",
      "Epoch 8/10\n",
      "71/71 [==============================] - 3s 41ms/step - loss: 9.3125e-07 - mean_absolute_percentage_error: 99.9464\n",
      "Epoch 9/10\n",
      "71/71 [==============================] - 3s 40ms/step - loss: 9.3125e-07 - mean_absolute_percentage_error: 99.9464\n",
      "Epoch 10/10\n",
      "71/71 [==============================] - 3s 40ms/step - loss: 9.3125e-07 - mean_absolute_percentage_error: 99.9464\n",
      "2197/2197 [==============================] - 8s 3ms/step - loss: 9.3125e-07 - mean_absolute_percentage_error: 99.9464A: 0s - loss: 9.3538e-07 - mean_absolute_percentage_error: \n",
      "Accuracy: 9994.64\n"
     ]
    }
   ],
   "source": [
    "abnormal_rnn(x = X,y = Y, window = 10)"
   ]
  },
  {
   "cell_type": "code",
   "execution_count": 39,
   "id": "abfd9c1d",
   "metadata": {
    "ExecuteTime": {
     "end_time": "2021-10-16T19:57:24.115644Z",
     "start_time": "2021-10-16T19:56:46.190640Z"
    }
   },
   "outputs": [
    {
     "name": "stdout",
     "output_type": "stream",
     "text": [
      "Epoch 1/10\n",
      "71/71 [==============================] - 3s 39ms/step - loss: 8.0979e-05 - mean_absolute_percentage_error: 1115.3666\n",
      "Epoch 2/10\n",
      "71/71 [==============================] - 3s 42ms/step - loss: 9.6558e-07 - mean_absolute_percentage_error: 99.9565\n",
      "Epoch 3/10\n",
      "71/71 [==============================] - 3s 42ms/step - loss: 9.6558e-07 - mean_absolute_percentage_error: 99.9565\n",
      "Epoch 4/10\n",
      "71/71 [==============================] - 3s 41ms/step - loss: 9.6558e-07 - mean_absolute_percentage_error: 99.9565\n",
      "Epoch 5/10\n",
      "71/71 [==============================] - 3s 44ms/step - loss: 9.6558e-07 - mean_absolute_percentage_error: 99.9565\n",
      "Epoch 6/10\n",
      "71/71 [==============================] - 3s 41ms/step - loss: 9.6558e-07 - mean_absolute_percentage_error: 99.9565\n",
      "Epoch 7/10\n",
      "71/71 [==============================] - 3s 41ms/step - loss: 9.6558e-07 - mean_absolute_percentage_error: 99.9565\n",
      "Epoch 8/10\n",
      "71/71 [==============================] - 3s 41ms/step - loss: 9.6558e-07 - mean_absolute_percentage_error: 99.9565\n",
      "Epoch 9/10\n",
      "71/71 [==============================] - 3s 40ms/step - loss: 9.6558e-07 - mean_absolute_percentage_error: 99.9565\n",
      "Epoch 10/10\n",
      "71/71 [==============================] - 3s 40ms/step - loss: 9.6558e-07 - mean_absolute_percentage_error: 99.9565\n",
      "2197/2197 [==============================] - 8s 4ms/step - loss: 9.6558e-07 - mean_absolute_percentage_error: 99.9565\n",
      "Accuracy: 9995.65\n"
     ]
    }
   ],
   "source": [
    "abnormal_rnn(x = X,y = Y, window = 15)"
   ]
  },
  {
   "cell_type": "code",
   "execution_count": 40,
   "id": "e355e3ea",
   "metadata": {
    "ExecuteTime": {
     "end_time": "2021-10-16T19:58:01.784500Z",
     "start_time": "2021-10-16T19:57:24.118640Z"
    }
   },
   "outputs": [
    {
     "name": "stdout",
     "output_type": "stream",
     "text": [
      "Epoch 1/10\n",
      "71/71 [==============================] - 3s 37ms/step - loss: 8.0207e-05 - mean_absolute_percentage_error: 5192.3301\n",
      "Epoch 2/10\n",
      "71/71 [==============================] - 3s 41ms/step - loss: 9.8307e-07 - mean_absolute_percentage_error: 99.9602\n",
      "Epoch 3/10\n",
      "71/71 [==============================] - 3s 41ms/step - loss: 9.8307e-07 - mean_absolute_percentage_error: 99.9602\n",
      "Epoch 4/10\n",
      "71/71 [==============================] - 3s 40ms/step - loss: 9.8307e-07 - mean_absolute_percentage_error: 99.9602\n",
      "Epoch 5/10\n",
      "71/71 [==============================] - 3s 40ms/step - loss: 9.8307e-07 - mean_absolute_percentage_error: 99.9602\n",
      "Epoch 6/10\n",
      "71/71 [==============================] - 3s 40ms/step - loss: 9.8307e-07 - mean_absolute_percentage_error: 99.9602\n",
      "Epoch 7/10\n",
      "71/71 [==============================] - 3s 41ms/step - loss: 9.8307e-07 - mean_absolute_percentage_error: 99.9602\n",
      "Epoch 8/10\n",
      "71/71 [==============================] - 3s 40ms/step - loss: 9.8307e-07 - mean_absolute_percentage_error: 99.9602\n",
      "Epoch 9/10\n",
      "71/71 [==============================] - 3s 40ms/step - loss: 9.8307e-07 - mean_absolute_percentage_error: 99.9602\n",
      "Epoch 10/10\n",
      "71/71 [==============================] - 3s 40ms/step - loss: 9.8307e-07 - mean_absolute_percentage_error: 99.9602\n",
      "2197/2197 [==============================] - 9s 4ms/step - loss: 9.8307e-07 - mean_absolute_percentage_error: 99.9602A: 1s - loss: 9.3840e-07 - mea\n",
      "Accuracy: 9996.02\n"
     ]
    }
   ],
   "source": [
    "abnormal_rnn(x = X,y = Y, window = 20)"
   ]
  },
  {
   "cell_type": "code",
   "execution_count": 41,
   "id": "dd48c4ad",
   "metadata": {
    "ExecuteTime": {
     "end_time": "2021-10-16T19:58:37.886301Z",
     "start_time": "2021-10-16T19:58:01.785498Z"
    }
   },
   "outputs": [
    {
     "name": "stdout",
     "output_type": "stream",
     "text": [
      "Epoch 1/10\n",
      "71/71 [==============================] - 3s 35ms/step - loss: 0.0010 - mean_absolute_percentage_error: 10773.2871\n",
      "Epoch 2/10\n",
      "71/71 [==============================] - 3s 40ms/step - loss: 9.9230e-07 - mean_absolute_percentage_error: 99.9674\n",
      "Epoch 3/10\n",
      "71/71 [==============================] - 3s 41ms/step - loss: 9.9230e-07 - mean_absolute_percentage_error: 99.9674\n",
      "Epoch 4/10\n",
      "71/71 [==============================] - 3s 41ms/step - loss: 9.9230e-07 - mean_absolute_percentage_error: 99.9674\n",
      "Epoch 5/10\n",
      "71/71 [==============================] - 3s 40ms/step - loss: 9.9230e-07 - mean_absolute_percentage_error: 99.9674\n",
      "Epoch 6/10\n",
      "71/71 [==============================] - 3s 40ms/step - loss: 9.9230e-07 - mean_absolute_percentage_error: 99.9674\n",
      "Epoch 7/10\n",
      "71/71 [==============================] - 3s 40ms/step - loss: 9.9230e-07 - mean_absolute_percentage_error: 99.9674\n",
      "Epoch 8/10\n",
      "71/71 [==============================] - 3s 40ms/step - loss: 9.9230e-07 - mean_absolute_percentage_error: 99.9674\n",
      "Epoch 9/10\n",
      "71/71 [==============================] - 3s 40ms/step - loss: 9.9230e-07 - mean_absolute_percentage_error: 99.9674\n",
      "Epoch 10/10\n",
      "71/71 [==============================] - 3s 42ms/step - loss: 9.9230e-07 - mean_absolute_percentage_error: 99.9674\n",
      "2197/2197 [==============================] - 7s 3ms/step - loss: 9.9230e-07 - mean_absolute_percentage_error: 99.9674\n",
      "Accuracy: 9996.74\n"
     ]
    }
   ],
   "source": [
    "abnormal_rnn(x = X,y = Y, window = 25)"
   ]
  },
  {
   "cell_type": "code",
   "execution_count": 42,
   "id": "7aabe535",
   "metadata": {
    "ExecuteTime": {
     "end_time": "2021-10-16T19:59:15.609284Z",
     "start_time": "2021-10-16T19:58:37.888301Z"
    }
   },
   "outputs": [
    {
     "name": "stdout",
     "output_type": "stream",
     "text": [
      "Epoch 1/10\n",
      "71/71 [==============================] - 3s 41ms/step - loss: 1.0338e-06 - mean_absolute_percentage_error: 100.7615\n",
      "Epoch 2/10\n",
      "71/71 [==============================] - 3s 43ms/step - loss: 9.9742e-07 - mean_absolute_percentage_error: 99.9760\n",
      "Epoch 3/10\n",
      "71/71 [==============================] - 3s 40ms/step - loss: 9.9742e-07 - mean_absolute_percentage_error: 99.9760\n",
      "Epoch 4/10\n",
      "71/71 [==============================] - 3s 40ms/step - loss: 9.9742e-07 - mean_absolute_percentage_error: 99.9760\n",
      "Epoch 5/10\n",
      "71/71 [==============================] - 3s 41ms/step - loss: 9.9742e-07 - mean_absolute_percentage_error: 99.9760\n",
      "Epoch 6/10\n",
      "71/71 [==============================] - 3s 40ms/step - loss: 9.9742e-07 - mean_absolute_percentage_error: 99.9760\n",
      "Epoch 7/10\n",
      "71/71 [==============================] - 3s 40ms/step - loss: 9.9742e-07 - mean_absolute_percentage_error: 99.9760\n",
      "Epoch 8/10\n",
      "71/71 [==============================] - 3s 40ms/step - loss: 9.9742e-07 - mean_absolute_percentage_error: 99.9760\n",
      "Epoch 9/10\n",
      "71/71 [==============================] - 3s 40ms/step - loss: 9.9742e-07 - mean_absolute_percentage_error: 99.9760\n",
      "Epoch 10/10\n",
      "71/71 [==============================] - 3s 40ms/step - loss: 9.9742e-07 - mean_absolute_percentage_error: 99.9760\n",
      "2197/2197 [==============================] - 8s 4ms/step - loss: 9.9742e-07 - mean_absolute_percentage_error: 99.9760\n",
      "Accuracy: 9997.60\n"
     ]
    }
   ],
   "source": [
    "abnormal_rnn(x = X,y = Y, window = 30)"
   ]
  },
  {
   "cell_type": "code",
   "execution_count": null,
   "id": "f6bf252a",
   "metadata": {},
   "outputs": [],
   "source": []
  },
  {
   "cell_type": "code",
   "execution_count": null,
   "id": "d1b905d5",
   "metadata": {},
   "outputs": [],
   "source": []
  },
  {
   "cell_type": "code",
   "execution_count": null,
   "id": "8fa71565",
   "metadata": {},
   "outputs": [],
   "source": []
  }
 ],
 "metadata": {
  "kernelspec": {
   "display_name": "Python 3",
   "language": "python",
   "name": "python3"
  },
  "language_info": {
   "codemirror_mode": {
    "name": "ipython",
    "version": 3
   },
   "file_extension": ".py",
   "mimetype": "text/x-python",
   "name": "python",
   "nbconvert_exporter": "python",
   "pygments_lexer": "ipython3",
   "version": "3.8.8"
  },
  "toc": {
   "base_numbering": 1,
   "nav_menu": {},
   "number_sections": true,
   "sideBar": true,
   "skip_h1_title": false,
   "title_cell": "Table of Contents",
   "title_sidebar": "Contents",
   "toc_cell": false,
   "toc_position": {
    "height": "calc(100% - 180px)",
    "left": "10px",
    "top": "150px",
    "width": "409.6px"
   },
   "toc_section_display": true,
   "toc_window_display": true
  }
 },
 "nbformat": 4,
 "nbformat_minor": 5
}
