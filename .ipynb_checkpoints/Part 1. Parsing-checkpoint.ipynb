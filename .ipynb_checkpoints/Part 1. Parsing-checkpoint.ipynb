{
 "cells": [
  {
   "cell_type": "markdown",
   "id": "433d6a40",
   "metadata": {
    "ExecuteTime": {
     "end_time": "2021-09-21T13:42:54.414534Z",
     "start_time": "2021-09-21T13:42:54.411534Z"
    },
    "code_folding": []
   },
   "source": [
    "# Библиотеки"
   ]
  },
  {
   "cell_type": "code",
   "execution_count": 1,
   "id": "c7e02a09",
   "metadata": {
    "ExecuteTime": {
     "end_time": "2021-09-22T22:14:38.717317Z",
     "start_time": "2021-09-22T22:13:55.019291Z"
    }
   },
   "outputs": [
    {
     "data": {
      "text/html": [
       "<style>.container {width: 100% !important; } </style>"
      ],
      "text/plain": [
       "<IPython.core.display.HTML object>"
      ]
     },
     "metadata": {},
     "output_type": "display_data"
    }
   ],
   "source": [
    "import pandas as pd\n",
    "import praw\n",
    "import snscrape.modules.twitter as sntwitter\n",
    "import datetime\n",
    "from tqdm.notebook import tqdm\n",
    "import cryptocompare\n",
    "\n",
    "import getpass\n",
    "\n",
    "api_key = getpass.getpass('Api Key for CryptoCompare parsing:')\n",
    "api_key = '&api_key=a060dc55e20b43f88610b534de61261c77e13940f3e50191986a84f67da06218'\n",
    "\n",
    "\n",
    "client_id = getpass.getpass('Cliend id for Reddit parsing:')\n",
    "client_id='gYuNiBS7_keBx3UmPQh-Nw'\n",
    "\n",
    "\n",
    "client_secret = getpass.getpass('Cliend secret for Reddit parsing:')\n",
    "client_secret='I3oLaghUnEk9IgmSRAhsGrp3QKanNQ'\n",
    "\n",
    "\n",
    "\n",
    "from IPython.core.display import display, HTML\n",
    "display(HTML('<style>.container {width: 100% !important; } </style>'))"
   ]
  },
  {
   "cell_type": "markdown",
   "id": "daaef73a",
   "metadata": {},
   "source": [
    "# Парсинг"
   ]
  },
  {
   "cell_type": "markdown",
   "id": "5b365383",
   "metadata": {},
   "source": [
    "## Reddit"
   ]
  },
  {
   "cell_type": "code",
   "execution_count": 2,
   "id": "b84ee30e",
   "metadata": {
    "ExecuteTime": {
     "end_time": "2021-09-22T05:45:51.651411Z",
     "start_time": "2021-09-22T03:48:16.453836Z"
    }
   },
   "outputs": [
    {
     "data": {
      "application/vnd.jupyter.widget-view+json": {
       "model_id": "647f44223d094afbac45e29df2b8da16",
       "version_major": 2,
       "version_minor": 0
      },
      "text/plain": [
       "0it [00:00, ?it/s]"
      ]
     },
     "metadata": {},
     "output_type": "display_data"
    },
    {
     "data": {
      "application/vnd.jupyter.widget-view+json": {
       "model_id": "56072c7c279b4304acc773897e6e7693",
       "version_major": 2,
       "version_minor": 0
      },
      "text/plain": [
       "0it [00:00, ?it/s]"
      ]
     },
     "metadata": {},
     "output_type": "display_data"
    },
    {
     "data": {
      "application/vnd.jupyter.widget-view+json": {
       "model_id": "e5b7655c75314e83ae7c100afa5abc56",
       "version_major": 2,
       "version_minor": 0
      },
      "text/plain": [
       "0it [00:00, ?it/s]"
      ]
     },
     "metadata": {},
     "output_type": "display_data"
    },
    {
     "data": {
      "application/vnd.jupyter.widget-view+json": {
       "model_id": "35eee44ef4ed4ff7ade25fd855a42690",
       "version_major": 2,
       "version_minor": 0
      },
      "text/plain": [
       "0it [00:00, ?it/s]"
      ]
     },
     "metadata": {},
     "output_type": "display_data"
    },
    {
     "data": {
      "application/vnd.jupyter.widget-view+json": {
       "model_id": "bb871fb7782348c786e551058dbc7c86",
       "version_major": 2,
       "version_minor": 0
      },
      "text/plain": [
       "0it [00:00, ?it/s]"
      ]
     },
     "metadata": {},
     "output_type": "display_data"
    },
    {
     "data": {
      "application/vnd.jupyter.widget-view+json": {
       "model_id": "ece4b85cdc0e464c997a0c31ef3d765c",
       "version_major": 2,
       "version_minor": 0
      },
      "text/plain": [
       "0it [00:00, ?it/s]"
      ]
     },
     "metadata": {},
     "output_type": "display_data"
    }
   ],
   "source": [
    "reddit = praw.Reddit(client_id=client_id, client_secret=client_secret, user_agent='ParsBars')\n",
    "\n",
    "posts_total = []\n",
    "subreddit_list = ['Bitcoin','Crypto','Cryptocurrency','Cryptocurrencies','Blockchain','Binance']\n",
    "\n",
    "for x in subreddit_list:\n",
    "    posts = []\n",
    "    ml_subreddit = reddit.subreddit(x).hot(limit=1000000)\n",
    "    sub_c = reddit.subreddit(x)\n",
    "    sub_c = sub_c.subscribers\n",
    "    \n",
    "    for post in tqdm(ml_subreddit):\n",
    "        posts_loc = []\n",
    "        posts_loc.append([post.author,post.title, post.score, post.id, post.subreddit, post.num_comments, post.selftext, datetime.datetime.fromtimestamp(post.created)])\n",
    "        submission = reddit.submission(id=post.id)\n",
    "        comm = []\n",
    "        scor = []\n",
    "        aut = []\n",
    "        tim = []\n",
    "        submission.comments.replace_more(limit=0)\n",
    "        for top_level_comment in submission.comments:\n",
    "            comm += [top_level_comment.body]\n",
    "            scor += [top_level_comment.score]\n",
    "            aut += [top_level_comment.author]\n",
    "            tim += [datetime.datetime.fromtimestamp(top_level_comment.created)]\n",
    "        df = pd.DataFrame([comm,scor,aut,tim],index=['comment','comment_score','aut','tim']).T.sort_values(by='comment_score',ascending=False).iloc[:10]\n",
    "        shap = min(df.shape[0],10)\n",
    "        comm_df = pd.DataFrame(df.iloc[:,0].tolist()+df.iloc[:,1].tolist()+df.iloc[:,2].tolist() + df.iloc[:,3].tolist() \\\n",
    "                               + [sum(scor),sub_c],index= ['top {} comment'.format(x) for x in range(1,shap+1)]\\\n",
    "                               + ['top {} comment score'.format(x) for x in range(1,shap+1)] \\\n",
    "                               + ['top {} comment author'.format(x) for x in range(1,shap+1)] \\\n",
    "                               + ['top {} comment time'.format(x) for x in range(1,shap+1)] \\\n",
    "                               + ['total comments score','subreddit subscribers']).T\n",
    "        posts +=[pd.concat([pd.DataFrame(posts_loc,columns=['author','title', 'score', 'id', 'subreddit', 'num_comments', 'body', 'created']),comm_df],axis=1)]\n",
    "    \n",
    "    posts = pd.concat(posts)\n",
    "    posts_total += [posts]\n",
    "posts_total = pd.concat(posts_total).to_csv('reddit.csv')"
   ]
  },
  {
   "cell_type": "markdown",
   "id": "468b5591",
   "metadata": {},
   "source": [
    "## Twitter"
   ]
  },
  {
   "cell_type": "code",
   "execution_count": null,
   "id": "6ce5d6e6",
   "metadata": {
    "ExecuteTime": {
     "start_time": "2021-09-23T16:02:34.467Z"
    }
   },
   "outputs": [
    {
     "data": {
      "application/vnd.jupyter.widget-view+json": {
       "model_id": "da8587bd8eea42d2bfdb0413355bad8c",
       "version_major": 2,
       "version_minor": 0
      },
      "text/plain": [
       "0it [00:00, ?it/s]"
      ]
     },
     "metadata": {},
     "output_type": "display_data"
    },
    {
     "name": "stderr",
     "output_type": "stream",
     "text": [
      "Error retrieving https://api.twitter.com/2/search/adaptive.json?include_profile_interstitial_type=1&include_blocking=1&include_blocked_by=1&include_followed_by=1&include_want_retweets=1&include_mute_edge=1&include_can_dm=1&include_can_media_tag=1&skip_status=1&cards_platform=Web-12&include_cards=1&include_composer_source=true&include_ext_alt_text=true&include_reply_count=1&tweet_mode=extended&include_entities=true&include_user_entities=true&include_ext_media_color=true&include_ext_media_availability=true&send_error_codes=true&simple_quoted_tweets=true&q=Bitcoin&tweet_search_mode=live&count=100&query_source=spelling_expansion_revert_click&cursor=scroll%3AthGAVUV0VFVBaIwKO1wszt-icWiIC9oYT_2v8nEnEVi4TCARWAiXoYBFVTRVI1ARWE-wEVAAA%3D&pc=1&spelling_corrections=1&ext=mediaStats%252CcameraMoment: non-200 status code, retrying\n",
      "Error retrieving https://api.twitter.com/2/search/adaptive.json?include_profile_interstitial_type=1&include_blocking=1&include_blocked_by=1&include_followed_by=1&include_want_retweets=1&include_mute_edge=1&include_can_dm=1&include_can_media_tag=1&skip_status=1&cards_platform=Web-12&include_cards=1&include_composer_source=true&include_ext_alt_text=true&include_reply_count=1&tweet_mode=extended&include_entities=true&include_user_entities=true&include_ext_media_color=true&include_ext_media_availability=true&send_error_codes=true&simple_quoted_tweets=true&q=Bitcoin&tweet_search_mode=live&count=100&query_source=spelling_expansion_revert_click&cursor=scroll%3AthGAVUV0VFVBaIwKO1wszt-icWiIC9oYT_2v8nEnEVi4TCARWAiXoYBFVTRVI1ARWE-wEVAAA%3D&pc=1&spelling_corrections=1&ext=mediaStats%252CcameraMoment: non-200 status code, retrying\n",
      "Error retrieving https://api.twitter.com/2/search/adaptive.json?include_profile_interstitial_type=1&include_blocking=1&include_blocked_by=1&include_followed_by=1&include_want_retweets=1&include_mute_edge=1&include_can_dm=1&include_can_media_tag=1&skip_status=1&cards_platform=Web-12&include_cards=1&include_composer_source=true&include_ext_alt_text=true&include_reply_count=1&tweet_mode=extended&include_entities=true&include_user_entities=true&include_ext_media_color=true&include_ext_media_availability=true&send_error_codes=true&simple_quoted_tweets=true&q=Bitcoin&tweet_search_mode=live&count=100&query_source=spelling_expansion_revert_click&cursor=scroll%3AthGAVUV0VFVBaIwKO1wszt-icWiIC9oYT_2v8nEnEVi4TCARWAiXoYBFVTRVI1ARWE-wEVAAA%3D&pc=1&spelling_corrections=1&ext=mediaStats%252CcameraMoment: non-200 status code, retrying\n",
      "Error retrieving https://api.twitter.com/2/search/adaptive.json?include_profile_interstitial_type=1&include_blocking=1&include_blocked_by=1&include_followed_by=1&include_want_retweets=1&include_mute_edge=1&include_can_dm=1&include_can_media_tag=1&skip_status=1&cards_platform=Web-12&include_cards=1&include_composer_source=true&include_ext_alt_text=true&include_reply_count=1&tweet_mode=extended&include_entities=true&include_user_entities=true&include_ext_media_color=true&include_ext_media_availability=true&send_error_codes=true&simple_quoted_tweets=true&q=Bitcoin&tweet_search_mode=live&count=100&query_source=spelling_expansion_revert_click&cursor=scroll%3AthGAVUV0VFVBaIwKO1wszt-icWiIC9oYT_2v8nEnEVi4TCARWAiXoYBFVTRVI1ARWE-wEVAAA%3D&pc=1&spelling_corrections=1&ext=mediaStats%252CcameraMoment: non-200 status code\n",
      "4 requests to https://api.twitter.com/2/search/adaptive.json?include_profile_interstitial_type=1&include_blocking=1&include_blocked_by=1&include_followed_by=1&include_want_retweets=1&include_mute_edge=1&include_can_dm=1&include_can_media_tag=1&skip_status=1&cards_platform=Web-12&include_cards=1&include_composer_source=true&include_ext_alt_text=true&include_reply_count=1&tweet_mode=extended&include_entities=true&include_user_entities=true&include_ext_media_color=true&include_ext_media_availability=true&send_error_codes=true&simple_quoted_tweets=true&q=Bitcoin&tweet_search_mode=live&count=100&query_source=spelling_expansion_revert_click&cursor=scroll%3AthGAVUV0VFVBaIwKO1wszt-icWiIC9oYT_2v8nEnEVi4TCARWAiXoYBFVTRVI1ARWE-wEVAAA%3D&pc=1&spelling_corrections=1&ext=mediaStats%252CcameraMoment failed, giving up.\n"
     ]
    },
    {
     "data": {
      "application/vnd.jupyter.widget-view+json": {
       "model_id": "58d5e4dab2d4425d96d02bf3e8e1ce1d",
       "version_major": 2,
       "version_minor": 0
      },
      "text/plain": [
       "0it [00:00, ?it/s]"
      ]
     },
     "metadata": {},
     "output_type": "display_data"
    }
   ],
   "source": [
    "maxTweets = 1000000\n",
    "\n",
    "posts_total = []\n",
    "subreddit_list = ['Bitcoin','Crypto','Cryptocurrency','Cryptocurrencies','Blockchain','Binance']\n",
    "for x in subreddit_list:\n",
    "    tweets_list = []\n",
    "    try:\n",
    "        for i,tweet in tqdm(enumerate(sntwitter.TwitterSearchScraper(x).get_items())):\n",
    "            if i>maxTweets:\n",
    "                break\n",
    "            posts_total.append({'date':tweet.date, \n",
    "                                 'id':tweet.id, \n",
    "                                 'content':tweet.content, \n",
    "                                 'username':tweet.username})\n",
    "    except:\n",
    "        pass\n",
    "    \n",
    "    tweets_df = pd.DataFrame(tweets_list)\n",
    "    tweets_df['subreddit'] = x\n",
    "    posts_total += [tweets_df]\n",
    "posts_total = pd.concat(posts_total).to_csv('twitter.csv')"
   ]
  },
  {
   "cell_type": "markdown",
   "id": "4543a97d",
   "metadata": {},
   "source": [
    "## Bitcoin price "
   ]
  },
  {
   "cell_type": "markdown",
   "id": "055a53ea",
   "metadata": {},
   "source": [
    " НАЙТИ ВРЕМЯ ДЛЯ ПАРСИНГА ЦЕН"
   ]
  },
  {
   "cell_type": "markdown",
   "id": "93060621",
   "metadata": {},
   "source": [
    "### Daily"
   ]
  },
  {
   "cell_type": "code",
   "execution_count": null,
   "id": "7a1f890e",
   "metadata": {},
   "outputs": [],
   "source": [
    "assets = 'BTC'\n",
    "\n",
    "# В целом по биржам\n",
    "url_daily_exchange_vol = 'https://min-api.cryptocompare.com/data/exchange/histoday?tsym=USD&limit=60' + api_key\n",
    "data_exchange = pd.DataFrame(requests.get(url_daily_exchange_vol).json()['Data'])\n",
    "\n",
    "\n",
    "url_daily_pair = 'https://min-api.cryptocompare.com/data/v2/histoday?fsym={}&tsym=USD&limit=60'.format(assets) + api_key\n",
    "# По активу\n",
    "url_daily_symbol_vol = 'https://min-api.cryptocompare.com/data/symbol/histoday?fsym={}&tsym=USD&limit=60'.format(assets) + api_key\n",
    "\n",
    "try:\n",
    "    data_main = pd.DataFrame(requests.get(url_daily_pair).json()['Data']['Data'])\n",
    "    data_vol = pd.DataFrame(requests.get(url_daily_symbol_vol).json()['Data'])\n",
    "    data = pd.concat([data_main,data_vol,data_exchange],axis=1)\n",
    "    \n",
    "    daily_mass.update({assets:data})\n",
    "except KeyError:\n",
    "    print(\"I can't find \"+assets + ' in USD')"
   ]
  },
  {
   "cell_type": "markdown",
   "id": "608052f5",
   "metadata": {},
   "source": [
    "### Hourly"
   ]
  },
  {
   "cell_type": "code",
   "execution_count": null,
   "id": "d7e35b5a",
   "metadata": {},
   "outputs": [],
   "source": [
    "# В целом по биржам\n",
    "url_hourly_exchange_vol = 'https://min-api.cryptocompare.com/data/exchange/histohour?tsym=USD&limit=168' + api_key\n",
    "data_exchange = pd.DataFrame(requests.get(url_hourly_exchange_vol).json()['Data'])\n",
    "\n",
    "\n",
    "url_hourly_pair = 'https://min-api.cryptocompare.com/data/v2/histohour?fsym={}&tsym=USD&limit=168'.format(assets) + api_key\n",
    "# По активу\n",
    "url_hourly_symbol_vol = 'https://min-api.cryptocompare.com/data/symbol/histohour?fsym={}&tsym=USD&limit=168'.format(assets) + api_key\n",
    "\n",
    "try:\n",
    "    data_main = pd.DataFrame(requests.get(url_hourly_pair).json()['Data']['Data'])\n",
    "    data_vol = pd.DataFrame(requests.get(url_hourly_symbol_vol).json()['Data'])\n",
    "    data = pd.concat([data_main,data_vol,data_exchange],axis=1)\n",
    "    \n",
    "    hourly_mass.update({assets:data})\n",
    "except KeyError:\n",
    "    print(\"I can't find \"+assets + ' in USD')"
   ]
  },
  {
   "cell_type": "markdown",
   "id": "4925eff5",
   "metadata": {},
   "source": [
    "### Minutely"
   ]
  },
  {
   "cell_type": "code",
   "execution_count": null,
   "id": "2ad2ca7b",
   "metadata": {},
   "outputs": [],
   "source": [
    "url_minutely_pair = 'https://min-api.cryptocompare.com/data/v2/histominute?fsym={}&tsym=USD&limit=1440'.format(assets) + api_key\n",
    "\n",
    "try:\n",
    "    data_main = pd.DataFrame(requests.get(url_minutely_pair).json()['Data']['Data'])\n",
    "    data = data_main\n",
    "    \n",
    "    minutely_mass.update({assets:data})\n",
    "except KeyError:\n",
    "    print(\"I can't find \"+assets + ' in USD')"
   ]
  },
  {
   "cell_type": "code",
   "execution_count": null,
   "id": "5395307d",
   "metadata": {},
   "outputs": [],
   "source": []
  },
  {
   "cell_type": "code",
   "execution_count": null,
   "id": "59f929ac",
   "metadata": {},
   "outputs": [],
   "source": []
  },
  {
   "cell_type": "code",
   "execution_count": null,
   "id": "9f026939",
   "metadata": {},
   "outputs": [],
   "source": []
  }
 ],
 "metadata": {
  "kernelspec": {
   "display_name": "Python 3",
   "language": "python",
   "name": "python3"
  },
  "language_info": {
   "codemirror_mode": {
    "name": "ipython",
    "version": 3
   },
   "file_extension": ".py",
   "mimetype": "text/x-python",
   "name": "python",
   "nbconvert_exporter": "python",
   "pygments_lexer": "ipython3",
   "version": "3.8.8"
  },
  "toc": {
   "base_numbering": 1,
   "nav_menu": {},
   "number_sections": true,
   "sideBar": true,
   "skip_h1_title": false,
   "title_cell": "Table of Contents",
   "title_sidebar": "Contents",
   "toc_cell": false,
   "toc_position": {},
   "toc_section_display": true,
   "toc_window_display": true
  }
 },
 "nbformat": 4,
 "nbformat_minor": 5
}
